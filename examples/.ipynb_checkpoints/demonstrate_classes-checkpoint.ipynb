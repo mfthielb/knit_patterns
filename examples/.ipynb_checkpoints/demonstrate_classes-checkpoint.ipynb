{
 "cells": [
  {
   "cell_type": "code",
   "execution_count": 4,
   "id": "f45df2b7",
   "metadata": {},
   "outputs": [],
   "source": [
    "# Demonstrate Python Knitting Pattern Calculator for a Sock\n",
    "import sys\n",
    "sys.path.append(\"..\")\n",
    "import src.conversions as c\n",
    "import src.sock as s"
   ]
  },
  {
   "cell_type": "markdown",
   "id": "5c356d8a",
   "metadata": {},
   "source": [
    "# Conversions Class\n",
    "There are two systems for knitting pattern measurements: US and UK. \n",
    "The conversions class makes it easy to convert between the two. \n",
    "\n",
    "It also includes Guage calculations, which measures stitches and rows per inch. \n",
    "Guage changes with the size of the needles and the weight (thickness) of the yarn. Each knitter will also knit slightly differently, so two people with the same needles and the same yarn might have different stitches/rows per inch. For a fitted garment, like a sweater or a sock, it's important to get the right guage. \n",
    "\n",
    "The conversions class will allow the knitter to enter their custom guage or have the program guess the guage based on yarn and needle size. "
   ]
  },
  {
   "cell_type": "code",
   "execution_count": 6,
   "id": "2f92d1c8",
   "metadata": {},
   "outputs": [
    {
     "name": "stdout",
     "output_type": "stream",
     "text": [
      "Demonstrations of Knitting Conversion Classes\n",
      "Almost every knitting pattern needs a guage. If this is a garment (like a sweater or sock), you should knit a swatch.\n",
      "This is a standard lace weight guage with a US size 1 (2.25mm) needle:\n",
      "Guage is: (33, 4), stitches per in and (33, 4) rows per in.\n",
      "We keep the decimal places and round where needed for the pattern instructions. This keeps measurements precise.\n",
      "\n",
      " If you don't feel like knitting a swatch, we will use standard guages if you tell us the yarn weight and needle size.\n",
      "Guage is: (36, 4), stitches per in and (36, 4) rows per in.\n"
     ]
    }
   ],
   "source": [
    "c.main()"
   ]
  },
  {
   "cell_type": "markdown",
   "id": "2493a453",
   "metadata": {},
   "source": [
    "# Demonstration of Sock Class\n",
    "\n",
    "sock.py implements the abstract classes in pattern to calculate a basic toe-up sock given input measurements. "
   ]
  },
  {
   "cell_type": "markdown",
   "id": "e7ee9528",
   "metadata": {},
   "source": [
    "# If you've never knitted a sock before: \n",
    "* Socks are knit \"in the round,\" meaning that the knitter knits in a joined circle. You either start with the cuff, knitting a cylinder or start with the toe, knitting a cone. \n",
    "* Toe-up meaans that the knitter knits starting with a cone for the toe. \n",
    "* Magic loop means the knitter knits with two needles that are joined with a string/cable. The knitter is able to knit in a circle by moving stitches around on the two needles, looping over and over. "
   ]
  },
  {
   "cell_type": "code",
   "execution_count": 7,
   "id": "4c04f0f9",
   "metadata": {},
   "outputs": [
    {
     "name": "stdout",
     "output_type": "stream",
     "text": [
      "Basic Sock Elements\n",
      "Toe-up sock pattern for a foot measuring {'around_foot': 8.88888888888889, 'toe_to_heel': 9.5}, where Guage is: (32, 4), stitches per in and (32, 4) rows per in.\n"
     ]
    }
   ],
   "source": [
    "#Code to create a sock pattern\n",
    "print(\"Basic Sock Elements\")\n",
    "foot_measure_dict={'around_foot':(4*2)/0.9,'toe_to_heel':9.5}\n",
    "guage=c.Guage((32,4),(32,4),'in')\n",
    "print(\"Toe-up sock pattern for a foot measuring {0}, where {1}\".format(foot_measure_dict.__str__(),guage.__str__()))"
   ]
  },
  {
   "cell_type": "code",
   "execution_count": 9,
   "id": "50cc7908",
   "metadata": {},
   "outputs": [
    {
     "name": "stdout",
     "output_type": "stream",
     "text": [
      "Congratulations! Your sock has no holes\n"
     ]
    }
   ],
   "source": [
    "#The ToeUpSockPattern class only needs the basic foot measurements and the knitters guage\n",
    "sock=s.ToeUpSockPattern(foot_measure_dict,guage)\n",
    "sock.calculate_pattern()"
   ]
  },
  {
   "cell_type": "code",
   "execution_count": 10,
   "id": "9cc3e104",
   "metadata": {},
   "outputs": [
    {
     "name": "stdout",
     "output_type": "stream",
     "text": [
      "Toe-up sock with gusset heel for: Foot measurements 8.0 in around and 8.55 in long..\n"
     ]
    }
   ],
   "source": [
    "#The print method gives the most important measurements for the sock\n",
    "print(sock)"
   ]
  },
  {
   "cell_type": "markdown",
   "id": "0a3e286d",
   "metadata": {},
   "source": [
    "# Basic Steps for Toe-Up Socks:\n",
    "1. Toe: Knit a cone for the toe.\n",
    "1. Instep: Knit a cylinder for the instep.\n",
    "1. Gusset: Continue knitting a cylinder, but add two stitches to the botton of the sock on every other row. This creates a \"triangle\" on each side of the foot that extends from the sole to the ankle. \n",
    "1. Heel: Stop knitting on the top of the foot and knit back and forth across the botton, reducing by one stitch on each row. This builds the sock up the back of the foot (along the achillies tendon). When finished, the sock has a \"cup\" around the back of the foot, and you are ready to knit around the let. \n",
    "1. Cuff: Finish the sock by knitting ribbing around the top for a few rows. This makes the top of the sock \"stretchy\" so it's easy to put on and stayes in place. "
   ]
  },
  {
   "cell_type": "code",
   "execution_count": 12,
   "id": "f1b9a043",
   "metadata": {},
   "outputs": [
    {
     "name": "stdout",
     "output_type": "stream",
     "text": [
      "Cast on 32 (16 per needle) in preferred style (Figure 8, crocet, etc).\n",
      "Knit all stitches around.\n",
      "Row 1: Needle 1: K1 M1R, K to last stitch, M1L K1.\n",
      "   Needle 2:K1 M1R, K to last stitch, M1L K1.\n",
      "Row 2: Knit all stitches around.\n",
      "\n",
      "Repeat Row 1 and Row 2 until there are 64.0 stitches total on your two needles (32.0 on each needle).\n",
      "\n",
      "You will have knitted 16.0 rows.\n",
      "Cast on 32 (16 per needle) in preferred style (Figure 8, crocet, etc).\n",
      "Knit all stitches around.\n",
      "Row 1: Needle 1: K1 M1R, K to last stitch, M1L K1.\n",
      "   Needle 2:K1 M1R, K to last stitch, M1L K1.\n",
      "Row 2: Knit all stitches around.\n",
      "\n",
      "Repeat Row 1 and Row 2 until there are 64.0 stitches total on your two needles (32.0 on each needle).\n",
      "\n",
      "You will have knitted 16.0 rows.\n",
      "None\n",
      "Knit all stitches around for 20.400000000000006 rows.\n",
      "Knit all stitches around for 20.400000000000006 rows.\n",
      "None\n",
      "Row 1: Needle 1: Knit all stitches across. Needle 2: K1, M1R, Knit across to last stitche. M1L K1.\n",
      "Row 2: Knit all stitches around.\n",
      "\n",
      "Repeat Rows 1 and 2 until there are 32.0 stitches on Needle 1 and 48.0 stitches on Needle 2.\n",
      "Row 1: Needle 1: Knit all stitches across. Needle 2: K1, M1R, Knit across to last stitche. M1L K1.\n",
      "Row 2: Knit all stitches around.\n",
      "\n",
      "Repeat Rows 1 and 2 until there are 32.0 stitches on Needle 1 and 48.0 stitches on Needle 2.\n",
      "None\n",
      "Knit across needle 1. Leave all top-of-foot stitches on the cable and work back and forth on the gusset stitches as follows:\n",
      "\n",
      "Row 1: Knit 31 ssk k1,turn.\n",
      "Row 2: S1, p7, p2tog, p1, turn.\n",
      "Row 3: S1, k8, ssk, k1, turn.\n",
      "Row 4: S1, p9, p2tog, p1, turn.\n",
      "Row 5: S1, k10, ssk, k1, turn.\n",
      "Row 6: S1, p11, p2tog, p1, turn.\n",
      "Row 7: S1, k12, ssk, k1, turn.\n",
      "Row 8: S1, p13, p2tog, p1, turn.\n",
      "Row 9: S1, k14, ssk, k1, turn.\n",
      "Row 10: S1, p15, p2tog, p1, turn.\n",
      "Row 11: S1, k16, ssk, k1, turn.\n",
      "Continue until there are 32 stitches on the working needle.\n",
      "\n",
      "Knit 1 row around.\n",
      "\n",
      "Knit across needle 1. Leave all top-of-foot stitches on the cable and work back and forth on the gusset stitches as follows:\n",
      "\n",
      "Row 1: Knit 31 ssk k1,turn.\n",
      "Row 2: S1, p7, p2tog, p1, turn.\n",
      "Row 3: S1, k8, ssk, k1, turn.\n",
      "Row 4: S1, p9, p2tog, p1, turn.\n",
      "Row 5: S1, k10, ssk, k1, turn.\n",
      "Row 6: S1, p11, p2tog, p1, turn.\n",
      "Row 7: S1, k12, ssk, k1, turn.\n",
      "Row 8: S1, p13, p2tog, p1, turn.\n",
      "Row 9: S1, k14, ssk, k1, turn.\n",
      "Row 10: S1, p15, p2tog, p1, turn.\n",
      "Row 11: S1, k16, ssk, k1, turn.\n",
      "Continue until there are 32 stitches on the working needle.\n",
      "\n",
      "Knit 1 row around.\n",
      "\n",
      "None\n",
      "Row 1: K1, P1 for all 64.0 around\n",
      "Repeat Row 1 for 8 rows.\n",
      "Bind off LOOSELY (or you won't be able to get the sock onto your foot).\n",
      "Row 1: K1, P1 for all 64.0 around\n",
      "Repeat Row 1 for 8 rows.\n",
      "Bind off LOOSELY (or you won't be able to get the sock onto your foot).\n",
      "None\n"
     ]
    }
   ],
   "source": [
    "#write_directions() creates the text strings for the sock directions.\n",
    "sock.write_directions()\n",
    "#print_directions() prints the directions to the screen\n",
    "sock.print_pattern()"
   ]
  }
 ],
 "metadata": {
  "kernelspec": {
   "display_name": "Python 3 (ipykernel)",
   "language": "python",
   "name": "python3"
  },
  "language_info": {
   "codemirror_mode": {
    "name": "ipython",
    "version": 3
   },
   "file_extension": ".py",
   "mimetype": "text/x-python",
   "name": "python",
   "nbconvert_exporter": "python",
   "pygments_lexer": "ipython3",
   "version": "3.9.7"
  }
 },
 "nbformat": 4,
 "nbformat_minor": 5
}
