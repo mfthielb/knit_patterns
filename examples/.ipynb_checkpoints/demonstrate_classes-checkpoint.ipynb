{
 "cells": [
  {
   "cell_type": "code",
   "execution_count": 5,
   "id": "f45df2b7",
   "metadata": {},
   "outputs": [],
   "source": [
    "# Demonstrate Python Knitting Pattern Calculator for a Sock\n",
    "import sys\n",
    "sys.path.append(\"..\")\n",
    "import src.conversions as c\n",
    "import src.sock as s"
   ]
  },
  {
   "cell_type": "markdown",
   "id": "5c356d8a",
   "metadata": {},
   "source": [
    "# Conversions Class\n",
    "There are two systems for knitting pattern measurements: US and UK. \n",
    "The conversions class makes it easy to convert between the two. \n",
    "\n",
    "It also includes Guage calculations, which measures stitches and rows per inch. \n",
    "Guage changes with the size of the needles and the weight (thickness) of the yarn. Each knitter will also knit slightly differently, so two people with the same needles and the same yarn might have different stitches/rows per inch. For a fitted garment, like a sweater or a sock, it's important to get the right guage. \n",
    "\n",
    "The conversions class will allow the knitter to enter their custom guage or have the program guess the guage based on yarn and needle size. "
   ]
  },
  {
   "cell_type": "code",
   "execution_count": 6,
   "id": "2f92d1c8",
   "metadata": {},
   "outputs": [
    {
     "name": "stdout",
     "output_type": "stream",
     "text": [
      "Demonstrations of Knitting Conversion Classes\n",
      "Almost every knitting pattern needs a guage. If this is a garment (like a sweater or sock), you should knit a swatch.\n",
      "This is a standard lace weight guage with a US size 1 (2.25mm) needle:\n",
      "Guage is: (33, 4), stitches per in and (33, 4) rows per in.\n",
      "We keep the decimal places and round where needed for the pattern instructions. This keeps measurements precise.\n",
      "\n",
      " If you don't feel like knitting a swatch, we will use standard guages if you tell us the yarn weight and needle size.\n",
      "Guage is: (36, 4), stitches per in and (36, 4) rows per in.\n"
     ]
    }
   ],
   "source": [
    "c.main()"
   ]
  },
  {
   "cell_type": "markdown",
   "id": "2493a453",
   "metadata": {},
   "source": [
    "# Demonstration of Sock Class\n",
    "\n",
    "sock.py implements the abstract classes in pattern to calculate a basic toe-up sock given input measurements. "
   ]
  },
  {
   "cell_type": "code",
   "execution_count": 10,
   "id": "61a6b717",
   "metadata": {},
   "outputs": [
    {
     "name": "stdout",
     "output_type": "stream",
     "text": [
      "Basic Sock Elements\n",
      "Toe-up sock pattern for a {'around_foot': 8.88888888888889, 'toe_to_heel': 9.5} foot with a Guage is: (32, 4), stitches per in and (32, 4) rows per in. Guage.\n",
      "Congratulations! Your sock has no holes\n",
      "\n",
      "----Pattern Directions------\n",
      "Toe-up sock with gusset heel for: Foot measurements 8.0 in around and 8.55 in long..\n",
      "Cast on 32 (16 per needle) in preferred style (Figure 8, crocet, etc).\n",
      "Knit all stitches around.\n",
      "Row 1: Needle 1: K1 M1R, K to last stitch, M1L K1.\n",
      "   Needle 2:K1 M1R, K to last stitch, M1L K1.\n",
      "Row 2: Knit all stitches around.\n",
      "\n",
      "Repeat Row 1 and Row 2 until there are 64.0 stitches total on your two needles (32.0 on each needle).\n",
      "\n",
      "You will have knitted 16.0 rows.\n",
      "None\n",
      "Knit all stitches around for 20.400000000000006 rows.\n",
      "None\n",
      "Row 1: Needle 1: Knit all stitches across. Needle 2: K1, M1R, Knit across to last stitche. M1L K1.\n",
      "Row 2: Knit all stitches around.\n",
      "\n",
      "Repeat Rows 1 and 2 until there are 32.0 stitches on Needle 1 and 48.0 stitches on Needle 2.\n",
      "None\n",
      "Knit across needle 1. Leave all top-of-foot stitches on the cable and work back and forth on the gusset stitches as follows:\n",
      "\n",
      "Row 1: Knit 31 ssk k1,turn.\n",
      "Row 2: S1, p7, p2tog, p1, turn.\n",
      "Row 3: S1, k8, ssk, k1, turn.\n",
      "Row 4: S1, p9, p2tog, p1, turn.\n",
      "Row 5: S1, k10, ssk, k1, turn.\n",
      "Row 6: S1, p11, p2tog, p1, turn.\n",
      "Row 7: S1, k12, ssk, k1, turn.\n",
      "Row 8: S1, p13, p2tog, p1, turn.\n",
      "Row 9: S1, k14, ssk, k1, turn.\n",
      "Row 10: S1, p15, p2tog, p1, turn.\n",
      "Row 11: S1, k16, ssk, k1, turn.\n",
      "Continue until there are 32 stitches on the working needle.\n",
      "\n",
      "Knit 1 row around.\n",
      "\n",
      "None\n",
      "Row 1: K1, P1 for all 64.0 around\n",
      "Repeat Row 1 for 8 rows.\n",
      "Bind off LOOSELY (or you won't be able to get the sock onto your foot).\n",
      "None\n"
     ]
    }
   ],
   "source": [
    "s.main()"
   ]
  }
 ],
 "metadata": {
  "kernelspec": {
   "display_name": "Python 3 (ipykernel)",
   "language": "python",
   "name": "python3"
  },
  "language_info": {
   "codemirror_mode": {
    "name": "ipython",
    "version": 3
   },
   "file_extension": ".py",
   "mimetype": "text/x-python",
   "name": "python",
   "nbconvert_exporter": "python",
   "pygments_lexer": "ipython3",
   "version": "3.9.7"
  }
 },
 "nbformat": 4,
 "nbformat_minor": 5
}
